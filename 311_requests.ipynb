{
 "cells": [
  {
   "cell_type": "code",
   "execution_count": 2,
   "id": "04668dd7",
   "metadata": {},
   "outputs": [],
   "source": [
    "import pandas as pd"
   ]
  },
  {
   "cell_type": "code",
   "execution_count": 5,
   "id": "b05d819d",
   "metadata": {},
   "outputs": [
    {
     "name": "stdout",
     "output_type": "stream",
     "text": [
      "                                            TYPE  count\n",
      "48                               General Request  51047\n",
      "102                          Parking Enforcement  38263\n",
      "133                 Requests for Street Cleaning  18129\n",
      "82                                 Needle Pickup  14107\n",
      "140                  Schedule a Bulk Item Pickup  13525\n",
      "64           Improper Storage of Trash (Barrels)  11947\n",
      "78   Missed Trash/Recycling/Yard Waste/Bulk Item  11650\n",
      "128                   Request for Pothole Repair   9460\n",
      "22                                 CE Collection   9146\n",
      "129                   Request for Recycling Cart   8171\n"
     ]
    }
   ],
   "source": [
    "# Read data from csv\n",
    "data = pd.read_csv('data\\\\311_Cases_2020_2024_Unrestricted.csv')\n",
    "\n",
    "# Count each type of request and arrange them in decreasing order\n",
    "types = data.groupby('TYPE')['CASE_ENQUIRY_ID'].nunique().reset_index(name='count').sort_values(['count'], ascending = False)\n",
    "\n",
    "# print the top 10 most frequent requests\n",
    "print(types.head(10))"
   ]
  },
  {
   "cell_type": "code",
   "execution_count": null,
   "id": "002995de",
   "metadata": {},
   "outputs": [],
   "source": []
  }
 ],
 "metadata": {
  "kernelspec": {
   "display_name": "Python 3",
   "language": "python",
   "name": "python3"
  },
  "language_info": {
   "codemirror_mode": {
    "name": "ipython",
    "version": 3
   },
   "file_extension": ".py",
   "mimetype": "text/x-python",
   "name": "python",
   "nbconvert_exporter": "python",
   "pygments_lexer": "ipython3",
   "version": "3.6.4"
  }
 },
 "nbformat": 4,
 "nbformat_minor": 5
}
