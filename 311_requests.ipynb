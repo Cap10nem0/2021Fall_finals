{
 "cells": [
  {
   "cell_type": "code",
   "execution_count": 2,
   "id": "6268deb2",
   "metadata": {},
   "outputs": [],
   "source": [
    "# Most cases by TYPE\n",
    "# Most cases by LOCATION\n",
    "# Most cases by Season\n",
    "# Seaons when more cases are resolved\n",
    "# Time taken to resolve cases\n",
    "# Correlate TYPE and LOCATION\n",
    "# search for covid keywords in complaints (Masks, social distancing, etc)\n",
    "# compare resolution time of covid and non covid cases\n",
    "# Sentiment analysis of complaints\n",
    "# Sentiment analysis based on TYPE\n",
    "# Sentiment analysis based on LOCATION\n",
    "# Sentiment analysis using ecometric data (ethinicity). Use Census tract data from Harvard Dataverse to identify ethnicity\n",
    "# Sentiment analysis to classify liberal and conservative (conservative have strong opinions)"
   ]
  },
  {
   "cell_type": "code",
   "execution_count": 3,
   "id": "04668dd7",
   "metadata": {},
   "outputs": [],
   "source": [
    "import pandas as pd\n",
    "import datetime as dt"
   ]
  },
  {
   "cell_type": "code",
   "execution_count": 4,
   "id": "b05d819d",
   "metadata": {},
   "outputs": [
    {
     "name": "stdout",
     "output_type": "stream",
     "text": [
      "Top 10 most common requests during 2015-2019\n",
      "                                            TYPE   COUNT  Percentage\n",
      "59                               General Request  175288   12.344651\n",
      "127                          Parking Enforcement  152303   10.725934\n",
      "160                 Requests for Street Cleaning   83461    5.877738\n",
      "97   Missed Trash/Recycling/Yard Waste/Bulk Item   65984    4.646921\n",
      "155                   Request for Pothole Repair   59999    4.225427\n",
      "167                  Schedule a Bulk Item Pickup   57681    4.062182\n",
      "80           Improper Storage of Trash (Barrels)   52812    3.719283\n",
      "157                     Request for Snow Plowing   41207    2.902002\n",
      "25                                 CE Collection   37325    2.628612\n",
      "187                         Street Light Outages   36854    2.595442\n",
      "\n",
      "Top 10 most common requests during 2020-2021\n",
      "                                            TYPE  COUNT  Percentage\n",
      "48                               General Request  51047   16.839692\n",
      "102                          Parking Enforcement  38263   12.622429\n",
      "133                 Requests for Street Cleaning  18129    5.980504\n",
      "82                                 Needle Pickup  14107    4.653702\n",
      "140                  Schedule a Bulk Item Pickup  13525    4.461708\n",
      "64           Improper Storage of Trash (Barrels)  11947    3.941148\n",
      "78   Missed Trash/Recycling/Yard Waste/Bulk Item  11650    3.843172\n",
      "128                   Request for Pothole Repair   9460    3.120722\n",
      "22                                 CE Collection   9146    3.017138\n",
      "129                   Request for Recycling Cart   8171    2.695499\n"
     ]
    }
   ],
   "source": [
    "# Read data from csv\n",
    "pre_covid_records = pd.read_csv('data\\\\311_Cases_2015_2019_Unrestricted.csv')\n",
    "post_covid_records = pd.read_csv('data\\\\311_Cases_2020_2024_Unrestricted.csv')\n",
    "\n",
    "def get_freq(df, groupingColumn):\n",
    "    return df.groupby(groupingColumn)['CASE_ENQUIRY_ID'].nunique()\n",
    "\n",
    "# Count each type of request and arrange them in decreasing order\n",
    "pre_covid_type = get_freq(pre_covid_records, 'TYPE').reset_index(name='COUNT') \\\n",
    "    .sort_values(['COUNT'], ascending = False)\n",
    "\n",
    "pre_covid_type['Percentage'] = pre_covid_type['COUNT'] / pre_covid_type['COUNT'].sum() * 100\n",
    "\n",
    "print(\"Top 10 most common requests during 2015-2019\")\n",
    "print(pre_covid_type.head(10))\n",
    "\n",
    "post_covid_type = get_freq(post_covid_records, 'TYPE').reset_index(name='COUNT') \\\n",
    "    .sort_values(['COUNT'], ascending = False)\n",
    "\n",
    "post_covid_type['Percentage'] = post_covid_type['COUNT'] / post_covid_type['COUNT'].sum() * 100\n",
    "\n",
    "print(\"\\nTop 10 most common requests during 2020-2021\")\n",
    "print(post_covid_type.head(10))"
   ]
  },
  {
   "cell_type": "code",
   "execution_count": 5,
   "id": "002995de",
   "metadata": {},
   "outputs": [],
   "source": [
    "#print(post_covid_records.head(1))"
   ]
  },
  {
   "cell_type": "code",
   "execution_count": 6,
   "id": "4bbecc20",
   "metadata": {},
   "outputs": [
    {
     "name": "stdout",
     "output_type": "stream",
     "text": [
      "Top 10 locations with highest number of complaints during 2015-2019\n",
      "                                                 LOCATION  COUNT  Percentage\n",
      "783                    1 City Hall Plz, Boston, MA  02108   4792    0.348709\n",
      "3763                 100 City Hall Plz, Boston, MA  02108   1376    0.100130\n",
      "124146  INTERSECTION of Cross St & Hanover St, Boston,...    585    0.042570\n",
      "128420  INTERSECTION of Massachusetts Ave & Melnea Cas...    569    0.041406\n",
      "128415  INTERSECTION of Massachusetts Ave & Huntington...    494    0.035948\n",
      "122022  INTERSECTION of Boylston St & Park Dr, Boston,...    466    0.033910\n",
      "106112                75 W Rutland Sq, Roxbury, MA  02118    443    0.032237\n",
      "18094                   139 Tremont St, Boston, MA  02108    421    0.030636\n",
      "24222              1530 Washington St, Roxbury, MA  02118    410    0.029835\n",
      "24241              1535 Washington St, Roxbury, MA  02118    408    0.029690\n",
      "\n",
      "Top 10 locations with highest number of complaints during 2020-2021\n",
      "                                                LOCATION  COUNT  Percentage\n",
      "133                   1 City Hall Plz, Boston, MA  02108   1533    0.513050\n",
      "1925                100 City Hall Plz, Boston, MA  02108    339    0.113453\n",
      "16105             160 Southampton St, Roxbury, MA  02118    226    0.075636\n",
      "65056                75 W Rutland Sq, Roxbury, MA  02118    204    0.068273\n",
      "54121         544P Massachusetts Ave, Roxbury, MA  02118    198    0.066265\n",
      "14506             1535 Washington St, Roxbury, MA  02118    197    0.065930\n",
      "75320  INTERSECTION of Chandler St & Cazenove St, Bos...    190    0.063587\n",
      "75515  INTERSECTION of Claremont St & Wellington St, ...    147    0.049197\n",
      "78605  INTERSECTION of Massachusetts Ave & Melnea Cas...    143    0.047858\n",
      "14495             1530 Washington St, Roxbury, MA  02118    140    0.046854\n"
     ]
    }
   ],
   "source": [
    "pre_covid_location = get_freq(pre_covid_records, 'LOCATION') \\\n",
    "    .reset_index(name='COUNT').sort_values(['COUNT'],ascending = False)\n",
    "\n",
    "pre_covid_location['Percentage'] = pre_covid_location['COUNT'] / pre_covid_location['COUNT'].sum() * 100\n",
    "\n",
    "print(\"Top 10 locations with highest number of complaints during 2015-2019\")\n",
    "print(pre_covid_location.head(10))\n",
    "\n",
    "post_covid_location = get_freq(post_covid_records, 'LOCATION') \\\n",
    "    .reset_index(name='COUNT').sort_values(['COUNT'],ascending = False)\n",
    "\n",
    "post_covid_location['Percentage'] = post_covid_location['COUNT'] / post_covid_location['COUNT'].sum() * 100\n",
    "\n",
    "print(\"\\nTop 10 locations with highest number of complaints during 2020-2021\")\n",
    "print(post_covid_location.head(10))"
   ]
  },
  {
   "cell_type": "code",
   "execution_count": 18,
   "id": "ada61d09",
   "metadata": {},
   "outputs": [
    {
     "name": "stdout",
     "output_type": "stream",
     "text": [
      "Complaints by Seasons during 2015-2019\n",
      "   SEASON   COUNT  Percentage\n",
      "2  SUMMER  378523   26.657469\n",
      "1  SPRING  355632   25.045371\n",
      "3  WINTER  349713   24.628526\n",
      "0    FALL  336083   23.668634\n",
      "\n",
      "Complaints by Seasons during 2020-2021\n",
      "   SEASON  COUNT  Percentage\n",
      "2  SUMMER  90576   29.879757\n",
      "0    FALL  80698   26.621142\n",
      "3  WINTER  70095   23.123361\n",
      "1  SPRING  61766   20.375740\n"
     ]
    }
   ],
   "source": [
    "def get_season(date):\n",
    "    if type(date) is str:\n",
    "        date = dt.datetime.strptime(date, '%Y-%m-%d')\n",
    "    seasons = {'SPRING': [3,4,5], 'SUMMER': [6,7,8], 'FALL': [9,10,11], 'WINTER': [12,1,2]}\n",
    "    for season, months in seasons.items():\n",
    "        if date.month in months:\n",
    "            return season\n",
    "\n",
    "post_covid_season = post_covid_records.copy()\n",
    "pre_covid_records['SEASON'] = pre_covid_records['OPEN_DT'].apply(lambda entry : get_season(entry))\n",
    "post_covid_records['SEASON'] = post_covid_records['OPEN_DT'].apply(lambda entry : get_season(entry))\n",
    "# Another way of applying function to every entry of a column\n",
    "# post_covid_records['SEASON'] = post_covid_records.apply(lambda row : get_season(row['OPEN_DT']), axis = 1)\n",
    "# print(post_covid_records.iloc[0:11])\n",
    "# print(post_covid_records.iloc[75000:75010])\n",
    "# print(post_covid_records.iloc[150000:150011])\n",
    "# print(post_covid_records.iloc[225000:225011])\n",
    "\n",
    "pre_covid_season = get_freq(pre_covid_records, 'SEASON') \\\n",
    "    .reset_index(name='COUNT').sort_values(['COUNT'],ascending = False)\n",
    "\n",
    "pre_covid_season['Percentage'] = pre_covid_season['COUNT'] / pre_covid_season['COUNT'].sum() * 100\n",
    "\n",
    "print(\"Complaints by Seasons during 2015-2019\")\n",
    "print(pre_covid_season)\n",
    "\n",
    "post_covid_season = get_freq(post_covid_records, 'SEASON') \\\n",
    "    .reset_index(name='COUNT').sort_values(['COUNT'],ascending = False)\n",
    "\n",
    "post_covid_season['Percentage'] = post_covid_season['COUNT'] / post_covid_season['COUNT'].sum() * 100\n",
    "\n",
    "print(\"\\nComplaints by Seasons during 2020-2021\")\n",
    "print(post_covid_season)\n",
    "\n",
    "# Observe that the 311 cases during SPRING 2020 dropped by a significant margin compared to SPRING 2015-2019\n",
    "# This could be the reason behind increase of cases in SUMMER 2020 and FALL 2020"
   ]
  },
  {
   "cell_type": "code",
   "execution_count": null,
   "id": "e51d54b7",
   "metadata": {},
   "outputs": [],
   "source": []
  }
 ],
 "metadata": {
  "kernelspec": {
   "display_name": "Python 3",
   "language": "python",
   "name": "python3"
  },
  "language_info": {
   "codemirror_mode": {
    "name": "ipython",
    "version": 3
   },
   "file_extension": ".py",
   "mimetype": "text/x-python",
   "name": "python",
   "nbconvert_exporter": "python",
   "pygments_lexer": "ipython3",
   "version": "3.6.4"
  }
 },
 "nbformat": 4,
 "nbformat_minor": 5
}
